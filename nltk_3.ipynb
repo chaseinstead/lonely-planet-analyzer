{
 "cells": [
  {
   "cell_type": "code",
   "execution_count": 1,
   "metadata": {},
   "outputs": [],
   "source": [
    "from nltk import *\n",
    "\n",
    "with open('centralasia.txt', errors=\"ignore\") as file:\n",
    "    file_contents = file.read()\n",
    "\n",
    "with open('moe.txt', errors=\"ignore\") as file:\n",
    "    moe_txt = file.read()\n",
    "    \n",
    "file_in_words = word_tokenize(file_contents)\n",
    "text1 = Text(file_in_words)\n",
    "\n",
    "moe_words = word_tokenize(moe_txt)\n",
    "moe = Text(moe_words)"
   ]
  },
  {
   "cell_type": "markdown",
   "metadata": {},
   "source": [
    "# 2  Conditional Frequency Distributions\n",
    "When the texts of a corpus are divided into several categories, by genre, topic, author, etc, we can maintain separate frequency distributions for each category. This will allow us to study systematic differences between the categories. "
   ]
  },
  {
   "cell_type": "code",
   "execution_count": null,
   "metadata": {},
   "outputs": [],
   "source": []
  },
  {
   "cell_type": "code",
   "execution_count": null,
   "metadata": {},
   "outputs": [],
   "source": []
  },
  {
   "cell_type": "code",
   "execution_count": null,
   "metadata": {},
   "outputs": [],
   "source": []
  },
  {
   "cell_type": "code",
   "execution_count": null,
   "metadata": {},
   "outputs": [],
   "source": []
  },
  {
   "cell_type": "code",
   "execution_count": null,
   "metadata": {},
   "outputs": [],
   "source": [
    "https://www.datacamp.com/community/tutorials/text-analytics-beginners-nltk\n",
    "    \n",
    "    https://www.vipinajayakumar.com/parsing-text-with-python/\n",
    "        \n",
    "        http://www.nltk.org/book/ch02.html"
   ]
  }
 ],
 "metadata": {
  "kernelspec": {
   "display_name": "Python 3",
   "language": "python",
   "name": "python3"
  },
  "language_info": {
   "codemirror_mode": {
    "name": "ipython",
    "version": 3
   },
   "file_extension": ".py",
   "mimetype": "text/x-python",
   "name": "python",
   "nbconvert_exporter": "python",
   "pygments_lexer": "ipython3",
   "version": "3.6.5"
  }
 },
 "nbformat": 4,
 "nbformat_minor": 2
}
